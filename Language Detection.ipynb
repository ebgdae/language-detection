{
 "cells": [
  {
   "cell_type": "markdown",
   "metadata": {},
   "source": [
    "# A Very Basic Language Detector\n",
    "\n",
    "Based heavily on Cavnar, William B., and John M. Trenkle. \"N-gram-based text categorization\", 1994 https://www.let.rug.nl/vannoord/TextCat/textcat.pdf"
   ]
  },
  {
   "cell_type": "code",
   "execution_count": 64,
   "metadata": {},
   "outputs": [],
   "source": [
    "import importlib\n",
    "import text_processing_utils\n",
    "import pandas as pd\n",
    "import numpy as np\n",
    "import matplotlib.pyplot as plt"
   ]
  },
  {
   "cell_type": "code",
   "execution_count": 66,
   "metadata": {},
   "outputs": [
    {
     "data": {
      "text/plain": [
       "<module 'text_processing_utils' from '/Users/dsrikanth/code/language-classifier/text_processing_utils.py'>"
      ]
     },
     "execution_count": 66,
     "metadata": {},
     "output_type": "execute_result"
    }
   ],
   "source": [
    "importlib.reload(text_processing_utils)"
   ]
  },
  {
   "cell_type": "code",
   "execution_count": 33,
   "metadata": {},
   "outputs": [],
   "source": [
    "data = pd.read_csv('dataset.csv')"
   ]
  },
  {
   "cell_type": "markdown",
   "metadata": {},
   "source": [
    "### Zipf's Law\n",
    "This classifier works on Zipf's law. Zipf's law is an empirically observed law in many natural and human made data collections. (https://en.wikipedia.org/wiki/Zipf%27s_law)\n",
    "\n",
    "In the context of language, it takes the form \"The nth most common word in a human language\n",
    "text occurs with a frequency inversely proportional to n\"\n",
    "\n",
    "This can be expanded to not only words, but characters, and n-grams of two or more characters.\n",
    "\n",
    "Let's see if it occurs in the english samples in our dataset"
   ]
  },
  {
   "cell_type": "code",
   "execution_count": 39,
   "metadata": {},
   "outputs": [],
   "source": [
    "english_data = data[data.language=='English']"
   ]
  },
  {
   "cell_type": "code",
   "execution_count": 44,
   "metadata": {},
   "outputs": [],
   "source": [
    "english_one_gram_dict = text_processing_utils.create_ngram_dictionary_for_language(english_data, n_values = [1], ngrams_per_dictionary=20)"
   ]
  },
  {
   "cell_type": "markdown",
   "metadata": {},
   "source": [
    "These are the 20 most commonly occuring 1-grams in the data. "
   ]
  },
  {
   "cell_type": "code",
   "execution_count": 48,
   "metadata": {},
   "outputs": [
    {
     "data": {
      "text/plain": [
       "[(' ', 68822),\n",
       " ('e', 40076),\n",
       " ('a', 29361),\n",
       " ('t', 28462),\n",
       " ('i', 25402),\n",
       " ('o', 25011),\n",
       " ('n', 24745),\n",
       " ('s', 22655),\n",
       " ('r', 22166),\n",
       " ('h', 15910),\n",
       " ('l', 14245),\n",
       " ('d', 13337),\n",
       " ('c', 12343),\n",
       " ('m', 8943),\n",
       " ('u', 8915),\n",
       " ('f', 7376),\n",
       " ('p', 6743),\n",
       " ('g', 6655),\n",
       " ('w', 5853),\n",
       " ('b', 5545)]"
      ]
     },
     "execution_count": 48,
     "metadata": {},
     "output_type": "execute_result"
    }
   ],
   "source": [
    "english_one_gram_dict[0]"
   ]
  },
  {
   "cell_type": "markdown",
   "metadata": {},
   "source": [
    "Plotting"
   ]
  },
  {
   "cell_type": "code",
   "execution_count": 60,
   "metadata": {},
   "outputs": [
    {
     "data": {
      "image/png": "[encoded data removed]",
      "text/plain": [
       "<Figure size 432x288 with 1 Axes>"
      ]
     },
     "metadata": {
      "needs_background": "light"
     },
     "output_type": "display_data"
    }
   ],
   "source": [
    "english_char_frequencies = [l[1] for l in english_one_gram_dict[0]]\n",
    "harmonic_sequence = [english_char_frequencies[0]/i for i in range(1, len(english_char_frequencies)+1)]\n",
    "\n",
    "plt.plot(english_char_frequencies, label = 'Frequencies of characters')\n",
    "\n",
    "plt.plot(harmonic_sequence, label = 'Harmonic sequence')\n",
    "plt.legend(loc=\"upper right\")\n",
    "plt.show()"
   ]
  },
  {
   "cell_type": "markdown",
   "metadata": {},
   "source": [
    "The 'Harmonic sequence' plot is the sequence c/x, x in (0,20) where c is the frequency of the most commonly occuring character \n",
    "\n",
    "We see that the two sequences are roughly similar, giving some support to Zipf's law"
   ]
  },
  {
   "cell_type": "markdown",
   "metadata": {},
   "source": [
    "### Using Zipf's law for Language classification"
   ]
  },
  {
   "cell_type": "markdown",
   "metadata": {},
   "source": [
    "Each 1-gram (character) frequency distribution _should_ be different for each language. As a more extreme example, with two languages with completely different alphabets, say Dutch and Arabic, the distributions should have absolutely no similarity as there are no common characters\n",
    "\n",
    "In the case of similar languages, say English and Dutch, the distributions should be a bit more similar\n",
    "\n",
    "We can create a histogram for each language (or a set of histograms for 1-grams, 2-grams etc)\n",
    "\n",
    "Now, with an unknown text sample, we can compare the distributions of the most commonly occuring n-grams in the sample with precomputed distributions for each language, and choose the most similar language"
   ]
  },
  {
   "cell_type": "markdown",
   "metadata": {},
   "source": [
    "#### Comparing two distributions"
   ]
  },
  {
   "cell_type": "markdown",
   "metadata": {},
   "source": [
    "Let d1, d2 be two distributions of languages, s be the distribution of a sample.\n",
    "\n",
    "One simple way to compare s1 with d1 would be to look at how 'far' each element in s1 is from it's position in d1 (or d2).\n",
    "\n",
    "For example:\n",
    "d1 = [(e:10), (a:8), (c:3)], d2 = [(b:10), (c:8), (y:3)],  s1 = [(a:5), (z:2), (c:1)]\n",
    "\n",
    "distance between d1 and s1: a is 1 position off, z is not present at all in d1, c is in the correct position. We can make an assumption that z is present in c1 at a frequency just less than the lowest frequency in d1, giving it position 4. So z is 2 positions off. The total 'distance' is now 3\n",
    "\n",
    "distance between d2 and s1: a and z are not in d2 at all, giving distances of 3, 2 respectively. c is at distance 1. So the total 'distance' is 6.\n",
    "\n",
    "We can say that s1 is 'closer' to 'd1', making it more likely to correspond to the language d1 \n"
   ]
  },
  {
   "cell_type": "code",
   "execution_count": 71,
   "metadata": {},
   "outputs": [
    {
     "name": "stdout",
     "output_type": "stream",
     "text": [
      "3\n",
      "6\n"
     ]
    }
   ],
   "source": [
    "d1 = [('e',10), ('a',8), ('c',3)]\n",
    "d2 = [('b',10), ('c',8), ('y',3)]\n",
    "s1 = [('a',5), ('z',2), ('c',1)]\n",
    "\n",
    "print(text_processing_utils.get_distribution_distance(d1, s1))\n",
    "print(text_processing_utils.get_distribution_distance(d2, s1))"
   ]
  },
  {
   "cell_type": "code",
   "execution_count": null,
   "metadata": {},
   "outputs": [],
   "source": []
  }
 ],
 "metadata": {
  "kernelspec": {
   "display_name": "Python 3",
   "language": "python",
   "name": "python3"
  },
  "language_info": {
   "codemirror_mode": {
    "name": "ipython",
    "version": 3
   },
   "file_extension": ".py",
   "mimetype": "text/x-python",
   "name": "python",
   "nbconvert_exporter": "python",
   "pygments_lexer": "ipython3",
   "version": "3.7.2"
  }
 },
 "nbformat": 4,
 "nbformat_minor": 4
}
